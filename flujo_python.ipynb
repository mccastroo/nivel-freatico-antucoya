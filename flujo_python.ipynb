{
 "cells": [
  {
   "cell_type": "markdown",
   "metadata": {},
   "source": [
    "# Desarrollo flujo de datos para variables JIGSAW\n",
    "\n",
    "En el siguiente notebook se encuentra las líneas de código que terminarán siendo el .py final que se incorporará al flujo de datos. Este último será a través de Airflow."
   ]
  },
  {
   "cell_type": "code",
   "execution_count": 1,
   "metadata": {},
   "outputs": [],
   "source": [
    "import pandas as pd\n",
    "import numpy as np\n",
    "import requests\n",
    "\n",
    "from config import settings\n",
    "from sqlalchemy import create_engine\n",
    "from datetime import datetime, timedelta\n",
    "from dateutil import tz\n",
    "from azure.cosmos import CosmosClient\n",
    "from copy import copy"
   ]
  },
  {
   "cell_type": "code",
   "execution_count": 2,
   "metadata": {},
   "outputs": [],
   "source": [
    "# Parámetros de conexión a Azure\n",
    "\n",
    "COSMOS_URL = settings['cosmos_url']\n",
    "COSMOS_KEY = settings['cosmos_key']\n",
    "COSMOS_DATABASE = settings['cosmos_database']\n",
    "COSMOS_CONTAINER_JIGSAW = settings['cosmos_container_jigsaw']\n",
    "\n",
    "# Parámetros de conexión a Jigsaw\n",
    "JIGSAW_USER_NAM = settings['jigsaw_user_nam']\n",
    "JIGSAW_USER_PWD = settings['jigsaw_user_pwd']\n",
    "JIGSAW_SERVER_ADD = settings['jigsaw_server_add']\n",
    "\n",
    "# Parámetros de conexión a BD módulos\n",
    "MODULOS_USER_NAM = settings['modulos_user_nam']\n",
    "MODULOS_USER_PWD = settings['modulos_user_pwd']\n",
    "MODULOS_SERVER_ADD = settings['modulos_server_add']"
   ]
  },
  {
   "cell_type": "code",
   "execution_count": 3,
   "metadata": {},
   "outputs": [],
   "source": [
    "cosmos_client = CosmosClient(url=COSMOS_URL, credential=COSMOS_KEY)\n",
    "database_client = cosmos_client.get_database_client(database=COSMOS_DATABASE)\n",
    "container_jigsaw_client = database_client.get_container_client(container=COSMOS_CONTAINER_JIGSAW)"
   ]
  },
  {
   "cell_type": "code",
   "execution_count": 4,
   "metadata": {},
   "outputs": [],
   "source": [
    "cosmos_id_mod = container_jigsaw_client.query_items(\n",
    "    query='SELECT c.id_mod FROM c', \n",
    "    enable_cross_partition_query=True\n",
    "    )\n",
    "\n",
    "list_cosmos_id_mod = [str(m['id_mod']) for m in copy(list(cosmos_id_mod))]\n",
    "\n",
    "existing_mods = '(' + ','.join(list_cosmos_id_mod) + ')'"
   ]
  },
  {
   "cell_type": "code",
   "execution_count": 5,
   "metadata": {},
   "outputs": [],
   "source": [
    "# Creación conexion a servidores\n",
    "jigsaw_engine = create_engine('mssql+pymssql://' + JIGSAW_USER_NAM + ':' + JIGSAW_USER_PWD + '@' + JIGSAW_SERVER_ADD)\n",
    "modulos_engine = create_engine('mssql+pymssql://' + MODULOS_USER_NAM + ':' + MODULOS_USER_PWD + '@' + MODULOS_SERVER_ADD)\n",
    "\n",
    "# Zonas horarias para pulir datos de apilamiento\n",
    "## Los datos de jigsaw están en UTC. Las fechas de los módulos están en el horario de America/Santiago\n",
    "\n",
    "from_zone = tz.gettz('America/Santiago')\n",
    "to_zone = tz.gettz('UTC')\n",
    "\n",
    "# Tiempo hasta que el contenido de un bloque debiese llegar por completo \n",
    "\n",
    "tiempo_descarga_apilado_horas = 1.25"
   ]
  },
  {
   "cell_type": "code",
   "execution_count": 6,
   "metadata": {},
   "outputs": [],
   "source": [
    "# Consulta a realizar por Módulos\n",
    "query_modulos = f\"SELECT id_mod, ini_apil, fin_apil, ini_benef FROM [pi_temp].[dbo].[bene_diario_modulos] WHERE id_mod NOT IN {existing_mods} AND ini_apil >= '2020-01-01' ORDER BY ini_apil DESC\"\n",
    "\n",
    "# Descarga datos de la consulta\n",
    "modulos_table = pd.read_sql(query_modulos, modulos_engine)"
   ]
  },
  {
   "cell_type": "code",
   "execution_count": 7,
   "metadata": {},
   "outputs": [
    {
     "name": "stdout",
     "output_type": "stream",
     "text": [
      "No hay módulos nuevos\n"
     ]
    }
   ],
   "source": [
    "if modulos_table.shape[0] > 0:\n",
    "\n",
    "  camiones_detail_modulo = []\n",
    "  grades_detail_modulo = []\n",
    "\n",
    "  for M, row in modulos_table.iterrows():\n",
    "    \n",
    "    modulo_inicio_apilado_santiago = datetime.strptime(row['ini_apil'].replace('.000', ''), '%Y-%m-%d %H:%M:%S').replace(tzinfo=from_zone)\n",
    "    modulo_fin_apilado_santiago = datetime.strptime(row['fin_apil'].replace('.000', ''), '%Y-%m-%d %H:%M:%S').replace(tzinfo=from_zone)\n",
    "\n",
    "    modulo_inicio_beneficio = datetime.strptime(row['ini_benef'].replace('.000', ''), '%Y-%m-%d')\n",
    "    \n",
    "    modulo_inicio_apilado_utc_bloque = modulo_inicio_apilado_santiago.astimezone(to_zone) - timedelta(hours=tiempo_descarga_apilado_horas)\n",
    "    modulo_fin_apilado_utc_bloque = modulo_fin_apilado_santiago.astimezone(to_zone) - timedelta(hours=tiempo_descarga_apilado_horas)\n",
    "\n",
    "    modulo_inicio_utc_bloque_string = modulo_inicio_apilado_utc_bloque.strftime('%Y-%m-%d %H:%M:%S')\n",
    "    modulo_fin_utc_bloque_string = modulo_fin_apilado_utc_bloque.strftime('%Y-%m-%d %H:%M:%S')\n",
    "    \n",
    "    jigsaw_query_custom_detail = f\"SELECT * FROM [by_custom_cycle_time_detail] WHERE [time_empty] BETWEEN '{modulo_inicio_utc_bloque_string}' AND '{modulo_fin_utc_bloque_string}' ORDER BY id DESC\"\n",
    "    \n",
    "    jigsaw_table_custom_detail = pd.read_sql(jigsaw_query_custom_detail, jigsaw_engine)\n",
    "    jigsaw_table_custom_detail['id_mod'] = row['id_mod']\n",
    "    jigsaw_table_custom_detail['Inicio_Apilamiento'] = row['ini_apil']\n",
    "    jigsaw_table_custom_detail['Fin_Apilamiento'] = row['fin_apil']\n",
    "    \n",
    "    camiones_detail_modulo.append(jigsaw_table_custom_detail)\n",
    "    \n",
    "    jigsaw_block_ids_list = [str(i) for i in jigsaw_table_custom_detail['grade_id'].unique() if ~np.isnan(i)]\n",
    "    jigsaw_blocks_ids_query = '(' + ','.join(jigsaw_block_ids_list) + ')'\n",
    "    \n",
    "    jigsaw_query_grades_detail = f\"SELECT [grade_id], [start_date], [qualities] FROM [grade_qualities] WHERE [grade_id] IN {jigsaw_blocks_ids_query} ORDER BY id DESC\"\n",
    "\n",
    "    jigsaw_table_grades_detail = pd.read_sql(jigsaw_query_grades_detail, jigsaw_engine)\n",
    "    jigsaw_table_grades_detail['id_mod'] = row['id_mod']\n",
    "    \n",
    "    grades_detail_modulo.append(jigsaw_table_grades_detail)\n",
    "    \n",
    "    \n",
    "  camiones_detail_modulo_pd = pd.concat(camiones_detail_modulo)\n",
    "  grades_detail_modulo_pd = pd.concat(grades_detail_modulo)\n",
    "\n",
    "  # API de R que procesa las variables en el formato trabajado (esta la debemos trabajar con Docker y montar en Azure)\n",
    "\n",
    "  mods_nuevos_variables_jigsaw = requests.post(\n",
    "      url='http://127.0.0.1:8991/jigsaw_variables',\n",
    "      json={\n",
    "          'datos_camiones' : camiones_detail_modulo_pd.to_json(orient='records'),\n",
    "          'datos_grades' : grades_detail_modulo_pd.to_json(orient='records')\n",
    "          }\n",
    "  )\n",
    "  # Empuje a Cosmos\n",
    "\n",
    "  id_mod_nuevos = mods_nuevos_variables_jigsaw.json()\n",
    "\n",
    "  for record in id_mod_nuevos:\n",
    "      try : \n",
    "          container_jigsaw_client.create_item(body=record)\n",
    "          print('Insertado : ' + str(record['id_mod']))\n",
    "      except:\n",
    "          print('No insertado : ' + str(record['id_mod']))\n",
    "\n",
    "else :\n",
    "  print('No hay módulos nuevos')"
   ]
  }
 ],
 "metadata": {
  "interpreter": {
   "hash": "a369ec88c60df180ddea14d5d4ebe53458977fb4debd82048e20e38fc6fbf9ff"
  },
  "kernelspec": {
   "display_name": "Python 3.8.8 ('base')",
   "language": "python",
   "name": "python3"
  },
  "language_info": {
   "codemirror_mode": {
    "name": "ipython",
    "version": 3
   },
   "file_extension": ".py",
   "mimetype": "text/x-python",
   "name": "python",
   "nbconvert_exporter": "python",
   "pygments_lexer": "ipython3",
   "version": "3.8.8"
  },
  "orig_nbformat": 4
 },
 "nbformat": 4,
 "nbformat_minor": 2
}
