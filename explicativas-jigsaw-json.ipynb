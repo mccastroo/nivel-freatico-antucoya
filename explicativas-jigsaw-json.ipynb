{
 "cells": [
  {
   "cell_type": "code",
   "execution_count": 1,
   "metadata": {},
   "outputs": [],
   "source": [
    "import pandas as pd\n",
    "import requests"
   ]
  },
  {
   "cell_type": "code",
   "execution_count": 3,
   "metadata": {},
   "outputs": [],
   "source": [
    "datos_camiones = pd.read_csv('Data/Camiones_ANT.csv')\n",
    "datos_grades = pd.read_csv('Data/grades_qualities_ANT.csv')"
   ]
  },
  {
   "cell_type": "code",
   "execution_count": null,
   "metadata": {},
   "outputs": [],
   "source": [
    "X = requests.post(\n",
    "    url='localhost:8991',\n",
    "    json={\n",
    "        'datos_camiones' : datos_camiones.to_json(orient='records'),\n",
    "        'datos_grades' : datos_grades.to_json(orient='records')\n",
    "        }\n",
    ")"
   ]
  }
 ],
 "metadata": {
  "interpreter": {
   "hash": "a369ec88c60df180ddea14d5d4ebe53458977fb4debd82048e20e38fc6fbf9ff"
  },
  "kernelspec": {
   "display_name": "Python 3.8.8 ('base')",
   "language": "python",
   "name": "python3"
  },
  "language_info": {
   "codemirror_mode": {
    "name": "ipython",
    "version": 3
   },
   "file_extension": ".py",
   "mimetype": "text/x-python",
   "name": "python",
   "nbconvert_exporter": "python",
   "pygments_lexer": "ipython3",
   "version": "3.8.8"
  },
  "orig_nbformat": 4
 },
 "nbformat": 4,
 "nbformat_minor": 2
}
